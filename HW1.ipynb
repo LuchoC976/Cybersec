{
 "cells": [
  {
   "cell_type": "markdown",
   "metadata": {},
   "source": [
    "Mod 26"
   ]
  },
  {
   "cell_type": "code",
   "execution_count": 2,
   "metadata": {},
   "outputs": [
    {
     "name": "stdout",
     "output_type": "stream",
     "text": [
      "picoCTF{next_time_I'll_try_2_rounds_of_rot13_wqWOSBKW}\n"
     ]
    }
   ],
   "source": [
    "def decrypt_rot13(text):\n",
    "    decrypted_text = \"\"\n",
    "    for char in text:\n",
    "        if 'A' <= char <= 'Z':\n",
    "            decrypted_char = chr(((ord(char) - ord('A') - 13) % 26) + ord('A'))\n",
    "        elif 'a' <= char <= 'z':\n",
    "            decrypted_char = chr(((ord(char) - ord('a') - 13) % 26) + ord('a'))\n",
    "        else:\n",
    "            decrypted_char = char\n",
    "        decrypted_text += decrypted_char\n",
    "    return decrypted_text\n",
    "\n",
    "rot13_encoded_string = \"cvpbPGS{arkg_gvzr_V'yy_gel_2_ebhaqf_bs_ebg13_jdJBFOXJ}\"\n",
    "decrypted_string = decrypt_rot13(rot13_encoded_string)\n",
    "print(decrypted_string)"
   ]
  },
  {
   "cell_type": "markdown",
   "metadata": {},
   "source": [
    "Easy Peasy"
   ]
  },
  {
   "cell_type": "code",
   "execution_count": 21,
   "metadata": {},
   "outputs": [
    {
     "name": "stdout",
     "output_type": "stream",
     "text": [
      "[x] Opening connection to mercury.picoctf.net on port 41934\n",
      "[x] Opening connection to mercury.picoctf.net on port 41934: Trying 18.189.209.142\n",
      "[+] Opening connection to mercury.picoctf.net on port 41934: Done\n"
     ]
    },
    {
     "name": "stderr",
     "output_type": "stream",
     "text": [
      "/var/folders/9q/ndfgzc_15fjcl7lb_ynn97640000gn/T/ipykernel_88077/931727646.py:7: BytesWarning: Text is not bytes; assuming ASCII, no guarantees. See https://docs.pwntools.com/#bytes\n",
      "  r.recvuntil(\"This is the encrypted flag!\\n\")\n"
     ]
    },
    {
     "name": "stdout",
     "output_type": "stream",
     "text": [
      "[*] Flag: 0345376e1e5406691d5c076c4050046e4000036a1a005c6b1904531d3941055d\n",
      "[x] Causing wrap-around\n",
      "[x] Causing wrap-around: 49968 bytes left\n",
      "[x] Causing wrap-around: 48968 bytes left\n"
     ]
    },
    {
     "name": "stderr",
     "output_type": "stream",
     "text": [
      "/var/folders/9q/ndfgzc_15fjcl7lb_ynn97640000gn/T/ipykernel_88077/931727646.py:18: BytesWarning: Text is not bytes; assuming ASCII, no guarantees. See https://docs.pwntools.com/#bytes\n",
      "  r.sendlineafter(\"What data would you like to encrypt? \", \"a\" * chunk_size)\n"
     ]
    },
    {
     "name": "stdout",
     "output_type": "stream",
     "text": [
      "[x] Causing wrap-around: 47968 bytes left\n",
      "[x] Causing wrap-around: 46968 bytes left\n",
      "[x] Causing wrap-around: 45968 bytes left\n",
      "[x] Causing wrap-around: 44968 bytes left\n",
      "[x] Causing wrap-around: 43968 bytes left\n",
      "[x] Causing wrap-around: 42968 bytes left\n",
      "[x] Causing wrap-around: 41968 bytes left\n",
      "[x] Causing wrap-around: 40968 bytes left\n",
      "[x] Causing wrap-around: 39968 bytes left\n",
      "[x] Causing wrap-around: 38968 bytes left\n",
      "[x] Causing wrap-around: 37968 bytes left\n",
      "[x] Causing wrap-around: 36968 bytes left\n",
      "[x] Causing wrap-around: 35968 bytes left\n",
      "[x] Causing wrap-around: 34968 bytes left\n",
      "[x] Causing wrap-around: 33968 bytes left\n",
      "[x] Causing wrap-around: 32968 bytes left\n",
      "[x] Causing wrap-around: 31968 bytes left\n",
      "[x] Causing wrap-around: 30968 bytes left\n",
      "[x] Causing wrap-around: 29968 bytes left\n",
      "[x] Causing wrap-around: 28968 bytes left\n",
      "[x] Causing wrap-around: 27968 bytes left\n",
      "[x] Causing wrap-around: 26968 bytes left\n",
      "[x] Causing wrap-around: 25968 bytes left\n",
      "[x] Causing wrap-around: 24968 bytes left\n",
      "[x] Causing wrap-around: 23968 bytes left\n",
      "[x] Causing wrap-around: 22968 bytes left\n",
      "[x] Causing wrap-around: 21968 bytes left\n",
      "[x] Causing wrap-around: 20968 bytes left\n",
      "[x] Causing wrap-around: 19968 bytes left\n",
      "[x] Causing wrap-around: 18968 bytes left\n",
      "[x] Causing wrap-around: 17968 bytes left\n",
      "[x] Causing wrap-around: 16968 bytes left\n",
      "[x] Causing wrap-around: 15968 bytes left\n",
      "[x] Causing wrap-around: 14968 bytes left\n",
      "[x] Causing wrap-around: 13968 bytes left\n",
      "[x] Causing wrap-around: 12968 bytes left\n",
      "[x] Causing wrap-around: 11968 bytes left\n",
      "[x] Causing wrap-around: 10968 bytes left\n",
      "[x] Causing wrap-around: 9968 bytes left\n",
      "[x] Causing wrap-around: 8968 bytes left\n",
      "[x] Causing wrap-around: 7968 bytes left\n",
      "[x] Causing wrap-around: 6968 bytes left\n",
      "[x] Causing wrap-around: 5968 bytes left\n",
      "[x] Causing wrap-around: 4968 bytes left\n",
      "[x] Causing wrap-around: 3968 bytes left\n",
      "[x] Causing wrap-around: 2968 bytes left\n",
      "[x] Causing wrap-around: 1968 bytes left\n",
      "[x] Causing wrap-around: 968 bytes left\n",
      "[+] Causing wrap-around: Done\n",
      "[+] The flag: b'abf2f7d5edf082028076bfd7a4cfe9a9'\n"
     ]
    }
   ],
   "source": [
    "# Code obtained from writeup (I didn't understand so I looked it up)\n",
    "# Code found at: https://github.com/Dvd848/CTFs/blob/master/2021_picoCTF/Easy_Peasy.md\n",
    "from pwn import *\n",
    "\n",
    "KEY_LEN = 50000\n",
    "MAX_CHUNK = 1000\n",
    "\n",
    "r = remote(\"mercury.picoctf.net\", 41934)\n",
    "r.recvuntil(\"This is the encrypted flag!\\n\")\n",
    "flag = r.recvlineS(keepends = False)\n",
    "log.info(f\"Flag: {flag}\")\n",
    "bin_flag = unhex(flag)\n",
    "\n",
    "counter = KEY_LEN - len(bin_flag)\n",
    "\n",
    "with log.progress('Causing wrap-around') as p:\n",
    "    while counter > 0:\n",
    "        p.status(f\"{counter} bytes left\")\n",
    "        chunk_size = min(MAX_CHUNK, counter)\n",
    "        r.sendlineafter(\"What data would you like to encrypt? \", \"a\" * chunk_size)\n",
    "        \n",
    "        counter -= chunk_size\n",
    "\n",
    "r.sendlineafter(\"What data would you like to encrypt? \", bin_flag)\n",
    "r.recvlineS()\n",
    "log.success(\"The flag: {}\".format(unhex(r.recvlineS())))\n"
   ]
  },
  {
   "cell_type": "markdown",
   "metadata": {},
   "source": [
    "The Numbers"
   ]
  },
  {
   "cell_type": "code",
   "execution_count": 3,
   "metadata": {},
   "outputs": [
    {
     "name": "stdout",
     "output_type": "stream",
     "text": [
      "P I C O C T F\n",
      "T H E N U M B E R S M A S O N\n"
     ]
    }
   ],
   "source": [
    "def decrypt_index_cipher(ciphertext):\n",
    "    decrypted_text = \"\"\n",
    "    i = 0\n",
    "\n",
    "    while i < len(ciphertext):\n",
    "        if ciphertext[i].isdigit():\n",
    "            # Find the end of the number\n",
    "            j = i\n",
    "            while j < len(ciphertext) and ciphertext[j].isdigit():\n",
    "                j += 1\n",
    "\n",
    "            # Get the numeric part and convert it to an integer\n",
    "            index = int(ciphertext[i:j])\n",
    "\n",
    "            # Convert the index to the corresponding letter (A=1, B=2, ..., Z=26)\n",
    "            if 1 <= index <= 26:\n",
    "                decrypted_char = chr(ord('A') + index - 1)\n",
    "                decrypted_text += decrypted_char\n",
    "            else:\n",
    "                # Handle invalid indices\n",
    "                decrypted_text += \"[INVALID]\"\n",
    "            \n",
    "            # Move the index to the next non-digit character\n",
    "            i = j\n",
    "        else:\n",
    "            # Copy non-digit characters unchanged\n",
    "            decrypted_text += ciphertext[i]\n",
    "            i += 1\n",
    "\n",
    "    return decrypted_text\n",
    "\n",
    "# Example usage:\n",
    "ciphertext1 = \"16 9 3 15 3 20 6\"\n",
    "ciphertext2 = \"20 8 5 14 21 13 2 5 18 19 13 1 19 15 14\"\n",
    "decrypted_string_out = decrypt_index_cipher(ciphertext1)\n",
    "decrypted_string_in = decrypt_index_cipher(ciphertext2)\n",
    "\n",
    "print(decrypted_string_out)\n",
    "print(decrypted_string_in)\n"
   ]
  },
  {
   "cell_type": "markdown",
   "metadata": {},
   "source": [
    "New Caesar"
   ]
  },
  {
   "cell_type": "code",
   "execution_count": 6,
   "metadata": {},
   "outputs": [
    {
     "name": "stdout",
     "output_type": "stream",
     "text": [
      "a qQqRY[YSVUT[UYWWWYUYTS\n",
      "b §§¨bcjljdgfelfjhhhjfjed\n",
      "c ©¸¸¹st{}{ªuxw©v¨¥}¨¨w©{yyy¨{w{v©©u¦¦©\n",
      "d ºÉ¤ÉÊ¤»º¹¶¹¹º¹ºº··º\n",
      "e ËÚµÚÛµÌËÊÇÊÊËÊËËÈÈË\n",
      "f ÜëÆëì¦Æ§® ®Ý¨«ªÜ©ÛØ ÛÛªÜ®¬¬¬Û®ª®©ÜÜ¨ÙÙÜ\n",
      "g íü×üý·×¸¿±¿î¹¼»íºìé±ìì»í¿½½½ì¿»¿ºíí¹êêí\n",
      "\u000eÈèÉÀÂÀÿÊÍÌþËýúÂýýÌþÀÎÎÎýÀÌÀËþþÊûûþ\n",
      "i \u000f\u001eù\u001e\u001fÙùÚÑÓÑ\u0000ÛÞÝ\u000fÜ\u000e\u000bÓ\u000e\u000eÝ\u000fÑßßß\u000eÑÝÑÜ\u000f\u000fÛ\f\f\u000f\n",
      "j \u0010/\n",
      "/ ê\n",
      "ëâäâ\u0011ìïî\u0010í\u001f\u001cä\u001f\u001fî\u0010âààà\u001fâîâí\u0010\u0010ì\u001d\u001d\u0010\n",
      "k !0\u001b01û\u001büóõó\"ýðÿ!þ -õ  ÿ!óñññ óÿóþ!!ý..!\n",
      "\u0004\u0006\u00043\u000e\u0001\u00002\u000f1>\u000611\u00002\u0004\u0002\u0002\u00021\u0004\u0000\u0004\u000f22\u000e??2\n",
      "m CR=RS\u001d=\u001e\u0015\u0017\u0015D\u001f\u0012\u0011C\u0010BO\u0017BB\u0011C\u0015\u0013\u0013\u0013B\u0015\u0011\u0015\u0010CC\u001f@@C\n",
      "n TcNcd.N/&(&U #\"T!SP(SS\"T&$$$S&\"&!TT QQT\n",
      "o et_tu?_0797f143e2da9dd3e7555d7372ee1bbe\n",
      "p v`@`AHJHwBEDvCurJuuDvHFFFuHDHCvvBssv\n"
     ]
    }
   ],
   "source": [
    "import string\n",
    "\n",
    "LOWERCASE_OFFSET = ord(\"a\")\n",
    "ALPHABET = string.ascii_lowercase[:16]\n",
    "\n",
    "def b16_encode(plain):\n",
    "    enc = \"\"\n",
    "    for c in plain:\n",
    "        binary = \"{0:08b}\".format(ord(c))\n",
    "        enc += ALPHABET[int(binary[:4], 2)]\n",
    "        enc += ALPHABET[int(binary[4:], 2)]\n",
    "    return enc\n",
    "def b16_decode(ciphered):\n",
    "    decoded=\"\"\n",
    "    for i in range(0,len(ciphered),2):\n",
    "        binary=\"{0:04b}\".format(ALPHABET.index(ciphered[i]))+\"{0:04b}\".format(ALPHABET.index(ciphered[i+1]))\n",
    "        decoded+=chr(int(binary,2))\n",
    "    return decoded\n",
    "\n",
    "def shift(c, k):\n",
    "    t1 = ord(c) - LOWERCASE_OFFSET\n",
    "    t2 = ord(k) - LOWERCASE_OFFSET\n",
    "    return ALPHABET[(t1 + t2) % len(ALPHABET)]\n",
    "\n",
    "flag = \"ihjghbjgjhfbhbfcfjflfjiifdfgffihfeigidfligigffihfjfhfhfhigfjfffjfeihihfdieieih\"\n",
    "\n",
    "for key in ALPHABET:\n",
    "    dec=\"\"\n",
    "    for c in flag:\n",
    "        dec+=shift(c,key)\n",
    "    b16=b16_decode(dec)\n",
    "    print(key,b16)"
   ]
  },
  {
   "cell_type": "markdown",
   "metadata": {},
   "source": [
    "13"
   ]
  },
  {
   "cell_type": "code",
   "execution_count": 7,
   "metadata": {},
   "outputs": [
    {
     "name": "stdout",
     "output_type": "stream",
     "text": [
      "picoCTF{not_too_bad_of_a_problem}\n"
     ]
    }
   ],
   "source": [
    "def decode_rot13(text):\n",
    "    decoded_text = \"\"\n",
    "    for char in text:\n",
    "        if 'A' <= char <= 'Z':\n",
    "            # Decode uppercase letters\n",
    "            decoded_char = chr(((ord(char) - ord('A') + 13) % 26) + ord('A'))\n",
    "        elif 'a' <= char <= 'z':\n",
    "            # Decode lowercase letters\n",
    "            decoded_char = chr(((ord(char) - ord('a') + 13) % 26) + ord('a'))\n",
    "        else:\n",
    "            # Leave non-alphabetical characters unchanged\n",
    "            decoded_char = char\n",
    "        decoded_text += decoded_char\n",
    "    return decoded_text\n",
    "\n",
    "# Example usage:\n",
    "rot13_encoded_string = \"cvpbPGS{abg_gbb_onq_bs_n_ceboyrz}\"\n",
    "decoded_string = decode_rot13(rot13_encoded_string)\n",
    "print(decoded_string)\n"
   ]
  },
  {
   "cell_type": "markdown",
   "metadata": {},
   "source": [
    "Caesar"
   ]
  },
  {
   "cell_type": "code",
   "execution_count": 19,
   "metadata": {},
   "outputs": [
    {
     "name": "stdout",
     "output_type": "stream",
     "text": [
      "ynkooejcpdanqxeykjrbdofgkq shift: 0\n",
      "xmjnndiboczmpwdxjiqacnefjp shift: 1\n",
      "wlimmchanbylovcwihpzbmdeio shift: 2\n",
      "vkhllbgzmaxknubvhgoyalcdhn shift: 3\n",
      "ujgkkafylzwjmtaugfnxzkbcgm shift: 4\n",
      "tifjjzexkyvilsztfemwyjabfl shift: 5\n",
      "sheiiydwjxuhkrysedlvxizaek shift: 6\n",
      "rgdhhxcviwtgjqxrdckuwhyzdj shift: 7\n",
      "qfcggwbuhvsfipwqcbjtvgxyci shift: 8\n",
      "pebffvatgurehovpbaisufwxbh shift: 9\n",
      "odaeeuzsftqdgnuoazhrtevwag shift: 10\n",
      "nczddtyrespcfmtnzygqsduvzf shift: 11\n",
      "mbyccsxqdrobelsmyxfprctuye shift: 12\n",
      "laxbbrwpcqnadkrlxweoqbstxd shift: 13\n",
      "kzwaaqvobpmzcjqkwvdnparswc shift: 14\n",
      "jyvzzpunaolybipjvucmozqrvb shift: 15\n",
      "ixuyyotmznkxahoiutblnypqua shift: 16\n",
      "hwtxxnslymjwzgnhtsakmxoptz shift: 17\n",
      "gvswwmrkxlivyfmgsrzjlwnosy shift: 18\n",
      "furvvlqjwkhuxelfrqyikvmnrx shift: 19\n",
      "etquukpivjgtwdkeqpxhjulmqw shift: 20\n",
      "dspttjohuifsvcjdpowgitklpv shift: 21\n",
      "crossingtherubiconvfhsjkou shift: 22\n",
      "bqnrrhmfsgdqtahbnmuegrijnt shift: 23\n",
      "apmqqglerfcpszgamltdfqhims shift: 24\n",
      "zolppfkdqeboryfzlkscepghlr shift: 25\n",
      "Ans:crossingtherubiconvfhsjkou\n"
     ]
    }
   ],
   "source": [
    "def decode_caesar_cipher(ciphertext, shift):\n",
    "    decrypted_text = \"\"\n",
    "    for char in ciphertext:\n",
    "        if 'A' <= char <= 'Z':\n",
    "            # Decode uppercase letters\n",
    "            decrypted_char = chr(((ord(char) - ord('A') - shift) % 26) + ord('A'))\n",
    "        elif 'a' <= char <= 'z':\n",
    "            # Decode lowercase letters\n",
    "            decrypted_char = chr(((ord(char) - ord('a') - shift) % 26) + ord('a'))\n",
    "        else:\n",
    "            # Leave non-alphabetical characters unchanged\n",
    "            decrypted_char = char\n",
    "        decrypted_text += decrypted_char\n",
    "    return decrypted_text\n",
    "\n",
    "# Example usage:\n",
    "caesar_encoded_string = \"ynkooejcpdanqxeykjrbdofgkq\"\n",
    "for i in range(26):\n",
    "    shift = i\n",
    "    decoded_string = decode_caesar_cipher(caesar_encoded_string, shift)\n",
    "    print(decoded_string + \" shift: \" + str(shift))\n",
    "\n",
    "print(\"Ans:\" + decode_caesar_cipher(caesar_encoded_string, 22))\n"
   ]
  },
  {
   "cell_type": "markdown",
   "metadata": {},
   "source": [
    "Easy1"
   ]
  },
  {
   "cell_type": "code",
   "execution_count": null,
   "metadata": {},
   "outputs": [],
   "source": [
    "# No code needed, solved using https://www.dcode.fr/vigenere-cipher with known ciphertext and key\n",
    "# Can be solved manually looking at the table as well"
   ]
  },
  {
   "cell_type": "markdown",
   "metadata": {},
   "source": [
    "Spelling-quiz"
   ]
  },
  {
   "cell_type": "code",
   "execution_count": 26,
   "metadata": {},
   "outputs": [
    {
     "name": "stdout",
     "output_type": "stream",
     "text": [
      "g: 0.5909790436965906% (17173)\n",
      "o: 3.6850415161659766% (107082)\n",
      "c: 7.068519568760462% (205401)\n",
      "n: 4.524140218923443% (131465)\n",
      "f: 2.6330623403224385% (76513)\n",
      "w: 9.29433530085455% (270080)\n",
      "t: 7.46547660999031% (216936)\n",
      "r: 10.715018225266496% (311363)\n",
      "s: 2.9942639965641793% (87009)\n",
      "x: 8.234544313276363% (239284)\n",
      "l: 5.587028400581446% (162351)\n",
      "y: 1.0493637675094705% (30493)\n",
      "a: 7.101349826006519% (206355)\n",
      "i: 7.391006299004493% (214772)\n",
      "d: 2.286245429918069% (66435)\n",
      "v: 6.820606389304907% (198197)\n",
      "u: 1.7011166417055765% (49432)\n",
      "b: 3.321878303673685% (96529)\n",
      "q: 1.9856111245705224% (57699)\n",
      "m: 3.1188056118403664% (90628)\n",
      "p: 0.9449195004845388% (27458)\n",
      "k: 0.40821017971984846% (11862)\n",
      "e: 0.5141342172495815% (14940)\n",
      "z: 0.28748843714210204% (8354)\n",
      "j: 0.16497720465157256% (4794)\n",
      "h: 0.11187753281649195% (3251)\n"
     ]
    }
   ],
   "source": [
    "# Code obtained from writeup: https://www.ctfwriteup.com/picoctf/picomini-by-redpwn/cryptography\n",
    "\n",
    "#!/usr/bin/env python3\n",
    "from collections import Counter\n",
    "from string import ascii_lowercase\n",
    "\n",
    "with open('public/study-guide.txt', 'r') as f:\n",
    "    ciphertext = f.read()\n",
    "\n",
    "charcount = Counter(c for c in ciphertext if c in ascii_lowercase)\n",
    "total_chars = sum(charcount.values())\n",
    "for char, count in charcount.items():\n",
    "    print(f\"{char}: {(count*100)/total_chars}% ({count})\")\n",
    "\n",
    "# Next step is to use https://quipqiup.com/ with r=e as clue (obtained from freq. analysis)"
   ]
  }
 ],
 "metadata": {
  "kernelspec": {
   "display_name": "Python 3",
   "language": "python",
   "name": "python3"
  },
  "language_info": {
   "codemirror_mode": {
    "name": "ipython",
    "version": 3
   },
   "file_extension": ".py",
   "mimetype": "text/x-python",
   "name": "python",
   "nbconvert_exporter": "python",
   "pygments_lexer": "ipython3",
   "version": "3.8.9"
  },
  "orig_nbformat": 4
 },
 "nbformat": 4,
 "nbformat_minor": 2
}
